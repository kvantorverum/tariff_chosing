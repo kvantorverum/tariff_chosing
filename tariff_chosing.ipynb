{
 "cells": [
  {
   "cell_type": "markdown",
   "metadata": {},
   "source": [
    "# Рекомендации по предложению тарифов"
   ]
  },
  {
   "cell_type": "markdown",
   "metadata": {},
   "source": [
    "К нам обратилась телекоммуникационная компания с просьбой предложить рекомендации для пользователей по переходу на актуальные тарифы. В компании есть два новых тарифа - smart и ultra. Ряд клиентов уже перешли на них. Компания предоставила сведения о поведении клиентов, которым понравились эти тарифы. \n",
    "\n",
    "Большая часть клиентов еще пользуются устаревшими тарифами. Компании будет выгодно, если они перейдут на новые. Перед нами поставлена задача обучить модель, которая будет по поведению пользователя определять, какой из новых тарифов ему лучше подойдет и тогда компания сможет сделать более эффективную и таргетную рекламу.\n",
    "\n",
    "## Описание данных\n",
    "Каждый объект в наборе данных — это информация о поведении одного пользователя за месяц. Известно:\n",
    "* сalls — количество звонков,\n",
    "* minutes — суммарная длительность звонков в минутах,\n",
    "* messages — количество sms-сообщений,\n",
    "* mb_used — израсходованный интернет-трафик в Мб,\n",
    "* is_ultra — каким тарифом пользовался в течение месяца («Ультра» — 1, «Смарт» — 0)."
   ]
  },
  {
   "cell_type": "markdown",
   "metadata": {},
   "source": [
    "## Загружаем необходимые библиотеки"
   ]
  },
  {
   "cell_type": "code",
   "execution_count": 1,
   "metadata": {},
   "outputs": [],
   "source": [
    "import pandas as pd"
   ]
  },
  {
   "cell_type": "code",
   "execution_count": 2,
   "metadata": {},
   "outputs": [],
   "source": [
    "from sklearn.linear_model import LogisticRegression\n",
    "from sklearn.ensemble import RandomForestClassifier\n",
    "from sklearn.metrics import accuracy_score, f1_score, precision_score, recall_score\n",
    "from sklearn.metrics import mean_squared_error\n",
    "from sklearn.model_selection import train_test_split\n",
    "from sklearn.dummy import DummyClassifier\n",
    "from sklearn.preprocessing import StandardScaler"
   ]
  },
  {
   "cell_type": "markdown",
   "metadata": {},
   "source": [
    "## Изучаем данные"
   ]
  },
  {
   "cell_type": "code",
   "execution_count": 3,
   "metadata": {},
   "outputs": [
    {
     "data": {
      "text/plain": [
       "(3214, 5)"
      ]
     },
     "execution_count": 3,
     "metadata": {},
     "output_type": "execute_result"
    }
   ],
   "source": [
    "df = pd.read_csv('users_behavior.csv')\n",
    "\n",
    "df.shape"
   ]
  },
  {
   "cell_type": "markdown",
   "metadata": {},
   "source": [
    "У нас данные о 3214 абонентах, которые пользовались интересующими нас тарифами"
   ]
  },
  {
   "cell_type": "markdown",
   "metadata": {},
   "source": [
    "Посмотрим на состав данных, обращая внимание на их полноту"
   ]
  },
  {
   "cell_type": "code",
   "execution_count": 4,
   "metadata": {},
   "outputs": [
    {
     "data": {
      "text/html": [
       "<div>\n",
       "<style scoped>\n",
       "    .dataframe tbody tr th:only-of-type {\n",
       "        vertical-align: middle;\n",
       "    }\n",
       "\n",
       "    .dataframe tbody tr th {\n",
       "        vertical-align: top;\n",
       "    }\n",
       "\n",
       "    .dataframe thead th {\n",
       "        text-align: right;\n",
       "    }\n",
       "</style>\n",
       "<table border=\"1\" class=\"dataframe\">\n",
       "  <thead>\n",
       "    <tr style=\"text-align: right;\">\n",
       "      <th></th>\n",
       "      <th>calls</th>\n",
       "      <th>minutes</th>\n",
       "      <th>messages</th>\n",
       "      <th>mb_used</th>\n",
       "      <th>is_ultra</th>\n",
       "    </tr>\n",
       "  </thead>\n",
       "  <tbody>\n",
       "    <tr>\n",
       "      <th>0</th>\n",
       "      <td>40.0</td>\n",
       "      <td>311.90</td>\n",
       "      <td>83.0</td>\n",
       "      <td>19915.42</td>\n",
       "      <td>0</td>\n",
       "    </tr>\n",
       "    <tr>\n",
       "      <th>1</th>\n",
       "      <td>85.0</td>\n",
       "      <td>516.75</td>\n",
       "      <td>56.0</td>\n",
       "      <td>22696.96</td>\n",
       "      <td>0</td>\n",
       "    </tr>\n",
       "    <tr>\n",
       "      <th>2</th>\n",
       "      <td>77.0</td>\n",
       "      <td>467.66</td>\n",
       "      <td>86.0</td>\n",
       "      <td>21060.45</td>\n",
       "      <td>0</td>\n",
       "    </tr>\n",
       "    <tr>\n",
       "      <th>3</th>\n",
       "      <td>106.0</td>\n",
       "      <td>745.53</td>\n",
       "      <td>81.0</td>\n",
       "      <td>8437.39</td>\n",
       "      <td>1</td>\n",
       "    </tr>\n",
       "    <tr>\n",
       "      <th>4</th>\n",
       "      <td>66.0</td>\n",
       "      <td>418.74</td>\n",
       "      <td>1.0</td>\n",
       "      <td>14502.75</td>\n",
       "      <td>0</td>\n",
       "    </tr>\n",
       "  </tbody>\n",
       "</table>\n",
       "</div>"
      ],
      "text/plain": [
       "   calls  minutes  messages   mb_used  is_ultra\n",
       "0   40.0   311.90      83.0  19915.42         0\n",
       "1   85.0   516.75      56.0  22696.96         0\n",
       "2   77.0   467.66      86.0  21060.45         0\n",
       "3  106.0   745.53      81.0   8437.39         1\n",
       "4   66.0   418.74       1.0  14502.75         0"
      ]
     },
     "execution_count": 4,
     "metadata": {},
     "output_type": "execute_result"
    }
   ],
   "source": [
    "df.head() "
   ]
  },
  {
   "cell_type": "code",
   "execution_count": 5,
   "metadata": {},
   "outputs": [
    {
     "name": "stdout",
     "output_type": "stream",
     "text": [
      "<class 'pandas.core.frame.DataFrame'>\n",
      "RangeIndex: 3214 entries, 0 to 3213\n",
      "Data columns (total 5 columns):\n",
      " #   Column    Non-Null Count  Dtype  \n",
      "---  ------    --------------  -----  \n",
      " 0   calls     3214 non-null   float64\n",
      " 1   minutes   3214 non-null   float64\n",
      " 2   messages  3214 non-null   float64\n",
      " 3   mb_used   3214 non-null   float64\n",
      " 4   is_ultra  3214 non-null   int64  \n",
      "dtypes: float64(4), int64(1)\n",
      "memory usage: 125.7 KB\n"
     ]
    }
   ],
   "source": [
    "df.info()"
   ]
  },
  {
   "cell_type": "code",
   "execution_count": 6,
   "metadata": {},
   "outputs": [
    {
     "data": {
      "text/html": [
       "<div>\n",
       "<style scoped>\n",
       "    .dataframe tbody tr th:only-of-type {\n",
       "        vertical-align: middle;\n",
       "    }\n",
       "\n",
       "    .dataframe tbody tr th {\n",
       "        vertical-align: top;\n",
       "    }\n",
       "\n",
       "    .dataframe thead th {\n",
       "        text-align: right;\n",
       "    }\n",
       "</style>\n",
       "<table border=\"1\" class=\"dataframe\">\n",
       "  <thead>\n",
       "    <tr style=\"text-align: right;\">\n",
       "      <th></th>\n",
       "      <th>calls</th>\n",
       "      <th>minutes</th>\n",
       "      <th>messages</th>\n",
       "      <th>mb_used</th>\n",
       "      <th>is_ultra</th>\n",
       "    </tr>\n",
       "  </thead>\n",
       "  <tbody>\n",
       "    <tr>\n",
       "      <th>count</th>\n",
       "      <td>3214.000000</td>\n",
       "      <td>3214.000000</td>\n",
       "      <td>3214.000000</td>\n",
       "      <td>3214.000000</td>\n",
       "      <td>3214.000000</td>\n",
       "    </tr>\n",
       "    <tr>\n",
       "      <th>mean</th>\n",
       "      <td>63.038892</td>\n",
       "      <td>438.208787</td>\n",
       "      <td>38.281269</td>\n",
       "      <td>17207.673836</td>\n",
       "      <td>0.306472</td>\n",
       "    </tr>\n",
       "    <tr>\n",
       "      <th>std</th>\n",
       "      <td>33.236368</td>\n",
       "      <td>234.569872</td>\n",
       "      <td>36.148326</td>\n",
       "      <td>7570.968246</td>\n",
       "      <td>0.461100</td>\n",
       "    </tr>\n",
       "    <tr>\n",
       "      <th>min</th>\n",
       "      <td>0.000000</td>\n",
       "      <td>0.000000</td>\n",
       "      <td>0.000000</td>\n",
       "      <td>0.000000</td>\n",
       "      <td>0.000000</td>\n",
       "    </tr>\n",
       "    <tr>\n",
       "      <th>25%</th>\n",
       "      <td>40.000000</td>\n",
       "      <td>274.575000</td>\n",
       "      <td>9.000000</td>\n",
       "      <td>12491.902500</td>\n",
       "      <td>0.000000</td>\n",
       "    </tr>\n",
       "    <tr>\n",
       "      <th>50%</th>\n",
       "      <td>62.000000</td>\n",
       "      <td>430.600000</td>\n",
       "      <td>30.000000</td>\n",
       "      <td>16943.235000</td>\n",
       "      <td>0.000000</td>\n",
       "    </tr>\n",
       "    <tr>\n",
       "      <th>75%</th>\n",
       "      <td>82.000000</td>\n",
       "      <td>571.927500</td>\n",
       "      <td>57.000000</td>\n",
       "      <td>21424.700000</td>\n",
       "      <td>1.000000</td>\n",
       "    </tr>\n",
       "    <tr>\n",
       "      <th>max</th>\n",
       "      <td>244.000000</td>\n",
       "      <td>1632.060000</td>\n",
       "      <td>224.000000</td>\n",
       "      <td>49745.730000</td>\n",
       "      <td>1.000000</td>\n",
       "    </tr>\n",
       "  </tbody>\n",
       "</table>\n",
       "</div>"
      ],
      "text/plain": [
       "             calls      minutes     messages       mb_used     is_ultra\n",
       "count  3214.000000  3214.000000  3214.000000   3214.000000  3214.000000\n",
       "mean     63.038892   438.208787    38.281269  17207.673836     0.306472\n",
       "std      33.236368   234.569872    36.148326   7570.968246     0.461100\n",
       "min       0.000000     0.000000     0.000000      0.000000     0.000000\n",
       "25%      40.000000   274.575000     9.000000  12491.902500     0.000000\n",
       "50%      62.000000   430.600000    30.000000  16943.235000     0.000000\n",
       "75%      82.000000   571.927500    57.000000  21424.700000     1.000000\n",
       "max     244.000000  1632.060000   224.000000  49745.730000     1.000000"
      ]
     },
     "execution_count": 6,
     "metadata": {},
     "output_type": "execute_result"
    }
   ],
   "source": [
    "df.describe()"
   ]
  },
  {
   "cell_type": "markdown",
   "metadata": {},
   "source": [
    "Пропущенных данных нет."
   ]
  },
  {
   "cell_type": "markdown",
   "metadata": {},
   "source": [
    "Так как у нас is_ultra mean=0.3, то для класса ultra у нас 30% данных, а для класса smart 70%.\n",
    "\n",
    "При проведении обучения модели нам необходимо учесть несбалансированность классов.\n",
    "\n",
    "Кроме того, мы видим, что абсолютные значения в переменных сильно отличаются, поэтому их необходимо стандартизировать."
   ]
  },
  {
   "cell_type": "markdown",
   "metadata": {},
   "source": [
    "## Разделение данных на выборки"
   ]
  },
  {
   "cell_type": "markdown",
   "metadata": {},
   "source": [
    "Выделим целевой признак"
   ]
  },
  {
   "cell_type": "code",
   "execution_count": 7,
   "metadata": {},
   "outputs": [],
   "source": [
    "features = df.drop(['is_ultra'], axis=1)\n",
    "target = df['is_ultra'] "
   ]
  },
  {
   "cell_type": "markdown",
   "metadata": {},
   "source": [
    "Делим данные на исходные данные для моделирования и тестовую выборку, указывая параметр stratify, так как данные несбалансированны по классам"
   ]
  },
  {
   "cell_type": "code",
   "execution_count": 8,
   "metadata": {},
   "outputs": [],
   "source": [
    "features_base, features_test, target_base, target_test = train_test_split(\n",
    "    features, target, test_size=0.2, random_state=12345, stratify=target)"
   ]
  },
  {
   "cell_type": "markdown",
   "metadata": {},
   "source": [
    "А теперь базовую разделим на обучающую и валидационную часть, на которой будем проверять результаты обучения в процессе"
   ]
  },
  {
   "cell_type": "code",
   "execution_count": 9,
   "metadata": {},
   "outputs": [],
   "source": [
    "features_train, features_valid, target_train, target_valid = train_test_split(\n",
    "    features_base, target_base, test_size=0.25, random_state=12345, stratify=target_base)"
   ]
  },
  {
   "cell_type": "code",
   "execution_count": 10,
   "metadata": {},
   "outputs": [
    {
     "data": {
      "text/plain": [
       "count    1928.000000\n",
       "mean        0.306535\n",
       "std         0.461174\n",
       "min         0.000000\n",
       "25%         0.000000\n",
       "50%         0.000000\n",
       "75%         1.000000\n",
       "max         1.000000\n",
       "Name: is_ultra, dtype: float64"
      ]
     },
     "execution_count": 10,
     "metadata": {},
     "output_type": "execute_result"
    }
   ],
   "source": [
    "target_train.describe()"
   ]
  },
  {
   "cell_type": "markdown",
   "metadata": {},
   "source": [
    "В результате на валидационную и на тестовую части приходится по 20% исходных данных, а на 60% мы будем обучать модель. Так как мы разбивали выборки с параметром stratify, доля пользователей с тарифом ultra сохранилась стабильной - ~30%"
   ]
  },
  {
   "cell_type": "markdown",
   "metadata": {},
   "source": [
    "## Стандартизация"
   ]
  },
  {
   "cell_type": "code",
   "execution_count": 11,
   "metadata": {},
   "outputs": [],
   "source": [
    "scaler = StandardScaler()\n",
    "scaler.fit(features_train) \n",
    "features_train_st = scaler.transform(features_train)\n",
    "features_valid_st = scaler.transform(features_valid)\n",
    "features_test_st = scaler.transform(features_test)"
   ]
  },
  {
   "cell_type": "markdown",
   "metadata": {},
   "source": [
    "## Обучение моделей"
   ]
  },
  {
   "cell_type": "markdown",
   "metadata": {},
   "source": [
    "### Обучим модель Случайный лес с подбором глубины и количества деревьев"
   ]
  },
  {
   "cell_type": "code",
   "execution_count": 12,
   "metadata": {},
   "outputs": [],
   "source": [
    "best_model = None\n",
    "best_accuracy = 0\n",
    "best_est = 0\n",
    "best_depth = 1"
   ]
  },
  {
   "cell_type": "markdown",
   "metadata": {},
   "source": [
    "В качестве основной универсальной метрики мы будем использовать accuracy, так как это метрика, которая характеризует качество модели, агрегированное по всем классам. В нашем случае это полезно, так как классы для нас имеют одинаковое значение."
   ]
  },
  {
   "cell_type": "code",
   "execution_count": 13,
   "metadata": {},
   "outputs": [],
   "source": [
    "for est in range(1, 11):\n",
    "    for depth in range(1,30):\n",
    "        model = RandomForestClassifier(random_state=12345,\n",
    "                                       n_estimators=est,\n",
    "                                       max_depth=depth,\n",
    "                                       class_weight='balanced') \n",
    "        \n",
    "        model.fit(features_train_st, target_train)\n",
    "        \n",
    "        predictions_valid = model.predict(features_valid_st)\n",
    "\n",
    "        accuracy = accuracy_score(target_valid, predictions_valid)\n",
    "\n",
    "        if accuracy > best_accuracy:\n",
    "            best_model = model \n",
    "            best_accuracy = accuracy\n",
    "            best_est = est\n",
    "            best_depth = depth\n",
    "\n",
    "predictions_valid = best_model.predict(features_valid_st)           \n",
    "\n",
    "# Для класса 1 - ultra\n",
    "f1_u = f1_score(target_valid, predictions_valid) \n",
    "precision_u = precision_score(target_valid, predictions_valid)\n",
    "recall_u =  recall_score(target_valid, predictions_valid)\n",
    "\n",
    "# для класса 0 - smart\n",
    "f1_s = f1_score(target_valid, predictions_valid, pos_label=0) \n",
    "precision_s = precision_score(target_valid, predictions_valid, pos_label=0)\n",
    "recall_s =  recall_score(target_valid, predictions_valid, pos_label=0)"
   ]
  },
  {
   "cell_type": "code",
   "execution_count": 14,
   "metadata": {},
   "outputs": [
    {
     "name": "stdout",
     "output_type": "stream",
     "text": [
      "Accuracy наилучшей модели на валидационной выборке: 0.8180404354587869\n",
      "Лучший max_depth: 7\n",
      "Лучший n_estimators: 7\n",
      "\n",
      "Метрики для класса 1 ultra\n",
      "Precision наилучшей модели на валидационной выборке: 0.7380952380952381\n",
      "Recall наилучшей модели на валидационной выборке: 0.6294416243654822\n",
      "F1 наилучшей модели на валидационной выборке: 0.6794520547945205\n",
      "\n",
      "Метрики для класса 0 smart\n",
      "Precision наилучшей модели на валидационной выборке: 0.8463157894736842\n",
      "Recall наилучшей модели на валидационной выборке: 0.9013452914798207\n",
      "F1 наилучшей модели на валидационной выборке: 0.8729641693811075\n"
     ]
    }
   ],
   "source": [
    "print(\"Accuracy наилучшей модели на валидационной выборке:\", best_accuracy)\n",
    "print('Лучший max_depth:', best_depth)\n",
    "print('Лучший n_estimators:', best_est)\n",
    "print()\n",
    "print('Метрики для класса 1 ultra')\n",
    "print(\"Precision наилучшей модели на валидационной выборке:\", precision_u)\n",
    "print(\"Recall наилучшей модели на валидационной выборке:\", recall_u)\n",
    "print(\"F1 наилучшей модели на валидационной выборке:\", f1_u)\n",
    "print()\n",
    "print('Метрики для класса 0 smart')\n",
    "print(\"Precision наилучшей модели на валидационной выборке:\", precision_s)\n",
    "print(\"Recall наилучшей модели на валидационной выборке:\", recall_s)\n",
    "print(\"F1 наилучшей модели на валидационной выборке:\", f1_s)"
   ]
  },
  {
   "cell_type": "markdown",
   "metadata": {},
   "source": [
    "Проверим на всякий случай более простую модель - есть вероятность, что она может датьрезультат лучше"
   ]
  },
  {
   "cell_type": "markdown",
   "metadata": {},
   "source": [
    "### Обучим модель алгоритмом логистической регрессии"
   ]
  },
  {
   "cell_type": "code",
   "execution_count": 15,
   "metadata": {},
   "outputs": [
    {
     "name": "stdout",
     "output_type": "stream",
     "text": [
      "Accuracy модели логистической регрессии на валидационной выборке: 0.6547433903576982\n"
     ]
    }
   ],
   "source": [
    "model = LogisticRegression(random_state=12345, class_weight='balanced') \n",
    "model.fit(features_train_st, target_train)\n",
    "predictions_valid = model.predict(features_valid_st)\n",
    "result = accuracy_score(target_valid, predictions_valid)\n",
    "\n",
    "print(\"Accuracy модели логистической регрессии на валидационной выборке:\", result)"
   ]
  },
  {
   "cell_type": "markdown",
   "metadata": {},
   "source": [
    "Результат обучения логистической регрессии хуже, чем у случайного леса"
   ]
  },
  {
   "cell_type": "markdown",
   "metadata": {},
   "source": [
    "## Проверим модель на тестовой выборке"
   ]
  },
  {
   "cell_type": "markdown",
   "metadata": {},
   "source": [
    "Случайный лес"
   ]
  },
  {
   "cell_type": "code",
   "execution_count": 16,
   "metadata": {},
   "outputs": [
    {
     "name": "stdout",
     "output_type": "stream",
     "text": [
      "Accuracy наилучшей модели случайного леса на тестовой выборке: 0.7962674961119751\n"
     ]
    }
   ],
   "source": [
    "predictions_test = best_model.predict(features_test_st)\n",
    "result_test = accuracy_score(target_test, predictions_test)\n",
    "print('Accuracy наилучшей модели случайного леса на тестовой выборке:', result_test)"
   ]
  },
  {
   "cell_type": "code",
   "execution_count": 17,
   "metadata": {},
   "outputs": [],
   "source": [
    "test_accuracy = accuracy_score(target_test, predictions_test)\n",
    "\n",
    "# Для класса 1 - ultra\n",
    "f1_u = f1_score(target_test, predictions_test) \n",
    "precision_u = precision_score(target_test, predictions_test)\n",
    "recall_u =  recall_score(target_test, predictions_test)\n",
    "\n",
    "# для класса 0 - smart\n",
    "f1_s = f1_score(target_test, predictions_test, pos_label=0) \n",
    "precision_s = precision_score(target_test, predictions_test, pos_label=0)\n",
    "recall_s =  recall_score(target_test, predictions_test, pos_label=0)"
   ]
  },
  {
   "cell_type": "code",
   "execution_count": 18,
   "metadata": {},
   "outputs": [
    {
     "name": "stdout",
     "output_type": "stream",
     "text": [
      "Accuracy наилучшей модели на тестовой выборке: 0.7962674961119751\n",
      "Лучший max_depth: 7\n",
      "Лучший n_estimators: 7\n",
      "\n",
      "Метрики для класса 1 ultra\n",
      "Precision наилучшей модели на тестовой выборке: 0.6987951807228916\n",
      "Recall наилучшей модели на тестовой выборке: 0.5888324873096447\n",
      "F1 наилучшей модели на тестовой выборке: 0.6391184573002755\n",
      "\n",
      "Метрики для класса 0 smart\n",
      "Precision наилучшей модели на тестовой выборке: 0.8301886792452831\n",
      "Recall наилучшей модели на тестовой выборке: 0.8878923766816144\n",
      "F1 наилучшей модели на тестовой выборке: 0.85807150595883\n"
     ]
    }
   ],
   "source": [
    "print(\"Accuracy наилучшей модели на тестовой выборке:\", test_accuracy)\n",
    "print('Лучший max_depth:', best_depth)\n",
    "print('Лучший n_estimators:', best_est)\n",
    "print()\n",
    "print('Метрики для класса 1 ultra')\n",
    "print(\"Precision наилучшей модели на тестовой выборке:\", precision_u)\n",
    "print(\"Recall наилучшей модели на тестовой выборке:\", recall_u)\n",
    "print(\"F1 наилучшей модели на тестовой выборке:\", f1_u)\n",
    "print()\n",
    "print('Метрики для класса 0 smart')\n",
    "print(\"Precision наилучшей модели на тестовой выборке:\", precision_s)\n",
    "print(\"Recall наилучшей модели на тестовой выборке:\", recall_s)\n",
    "print(\"F1 наилучшей модели на тестовой выборке:\", f1_s)"
   ]
  },
  {
   "cell_type": "markdown",
   "metadata": {},
   "source": [
    "### Вывод"
   ]
  },
  {
   "cell_type": "markdown",
   "metadata": {},
   "source": [
    "По результатам моделирования и тестирования лучшим вариантом модели оказался Случайный лес с accuracy 0.79.\n",
    "\n",
    "Проверка по качеству предсказания по классам показала, что наша рекомендация будет гораздо лучше работать для людей, которым по их потребностям лучше подходит тариф smart (F1=0.86. Для тарифа ultra F1=0.64). Это может означать, что тариф ultra в реальности объединяет несколько различных групп людей. Рекомендуем проработать еще несколько вариантов тарифов, сделав сегментацию пользователей тарифа ultra."
   ]
  },
  {
   "cell_type": "markdown",
   "metadata": {},
   "source": [
    "## Проверим модель на адекватность"
   ]
  },
  {
   "cell_type": "markdown",
   "metadata": {},
   "source": [
    "Для оценки нашей модели применим самый простой классификатор, который выдаёт на каждом объекте константное предсказание – самый часто встречающийся класс."
   ]
  },
  {
   "cell_type": "code",
   "execution_count": 19,
   "metadata": {},
   "outputs": [
    {
     "data": {
      "text/plain": [
       "0.6934647302904564"
      ]
     },
     "execution_count": 19,
     "metadata": {},
     "output_type": "execute_result"
    }
   ],
   "source": [
    "dummy_clf = DummyClassifier(strategy=\"most_frequent\", random_state=0)\n",
    "dummy_clf.fit(features_train, target_train)\n",
    "dummy_clf.score(features_train, target_train)"
   ]
  },
  {
   "cell_type": "markdown",
   "metadata": {},
   "source": [
    "Наша модель случайного леса дает заметно лучший результат, чем простой выбор наиболее частого класса. А вот логистическая регрессия дала даже хуже результат чем dummy-классификатор."
   ]
  },
  {
   "cell_type": "markdown",
   "metadata": {},
   "source": [
    "## Выводы"
   ]
  },
  {
   "cell_type": "markdown",
   "metadata": {},
   "source": [
    "По результатам тестирования лучшим вариантом модели оказался случайный лес с параметрами max_depth=7, n_estimators=7. Accuracy=0.80. \n",
    "\n",
    "Выбранная модель лучше, чем простейшая модель (а также модель логистической регрессии). Проверка на адекватность пройдена.\n",
    "\n",
    "Проверка по качеству предсказания по классам показала, что наша рекомендация будет гораздо лучше работать для людей, которым по их потребностям лучше подходит тариф smart (F1=0.86. Для тарифа ultra F1=0.64). Это может означать, что тариф ultra в реальности объединяет несколько различных групп людей. Рекомендуем компании подобрать еще несколько вариантов тарифа, отталкиваясь от тарифа ultra."
   ]
  },
  {
   "cell_type": "code",
   "execution_count": null,
   "metadata": {},
   "outputs": [],
   "source": []
  }
 ],
 "metadata": {
  "ExecuteTimeLog": [
   {
    "duration": 1668,
    "start_time": "2022-02-08T19:54:40.763Z"
   },
   {
    "duration": 95,
    "start_time": "2022-02-08T19:54:46.013Z"
   },
   {
    "duration": 30,
    "start_time": "2022-02-08T19:55:15.204Z"
   },
   {
    "duration": 26,
    "start_time": "2022-02-08T19:55:27.233Z"
   },
   {
    "duration": 28,
    "start_time": "2022-02-08T19:55:42.792Z"
   },
   {
    "duration": 38,
    "start_time": "2022-02-08T19:56:44.303Z"
   },
   {
    "duration": 485,
    "start_time": "2022-02-08T20:11:37.110Z"
   },
   {
    "duration": 505,
    "start_time": "2022-02-08T20:11:43.620Z"
   },
   {
    "duration": 369,
    "start_time": "2022-02-08T20:13:21.561Z"
   },
   {
    "duration": 373,
    "start_time": "2022-02-08T20:15:37.014Z"
   },
   {
    "duration": 624,
    "start_time": "2022-02-08T20:15:57.344Z"
   },
   {
    "duration": 4,
    "start_time": "2022-02-08T20:16:03.196Z"
   },
   {
    "duration": 464,
    "start_time": "2022-02-08T20:17:12.509Z"
   },
   {
    "duration": 354,
    "start_time": "2022-02-08T20:18:21.052Z"
   },
   {
    "duration": 687,
    "start_time": "2022-02-08T20:19:14.544Z"
   },
   {
    "duration": 2015,
    "start_time": "2022-02-08T20:19:25.782Z"
   },
   {
    "duration": -1186,
    "start_time": "2022-02-08T20:19:28.986Z"
   },
   {
    "duration": -1196,
    "start_time": "2022-02-08T20:19:28.997Z"
   },
   {
    "duration": 5,
    "start_time": "2022-02-08T20:23:53.219Z"
   },
   {
    "duration": 453,
    "start_time": "2022-02-08T20:24:29.106Z"
   },
   {
    "duration": 389,
    "start_time": "2022-02-08T20:24:44.818Z"
   },
   {
    "duration": 4,
    "start_time": "2022-02-08T20:24:56.273Z"
   },
   {
    "duration": 436,
    "start_time": "2022-02-08T20:27:39.477Z"
   },
   {
    "duration": 634,
    "start_time": "2022-02-08T20:27:59.946Z"
   },
   {
    "duration": 374,
    "start_time": "2022-02-08T20:28:21.976Z"
   },
   {
    "duration": 4,
    "start_time": "2022-02-08T20:31:26.467Z"
   },
   {
    "duration": 65,
    "start_time": "2022-02-08T20:31:35.419Z"
   },
   {
    "duration": 11,
    "start_time": "2022-02-08T20:35:49.732Z"
   },
   {
    "duration": 366,
    "start_time": "2022-02-08T20:54:50.688Z"
   },
   {
    "duration": 38,
    "start_time": "2022-02-08T20:55:16.664Z"
   },
   {
    "duration": 76,
    "start_time": "2022-02-08T21:08:29.733Z"
   },
   {
    "duration": 165,
    "start_time": "2022-02-08T21:17:32.452Z"
   },
   {
    "duration": 166,
    "start_time": "2022-02-08T21:17:58.093Z"
   },
   {
    "duration": 179,
    "start_time": "2022-02-08T21:18:16.446Z"
   },
   {
    "duration": 163,
    "start_time": "2022-02-08T21:18:32.669Z"
   },
   {
    "duration": 159,
    "start_time": "2022-02-08T21:18:43.869Z"
   },
   {
    "duration": 155,
    "start_time": "2022-02-08T21:19:10.097Z"
   },
   {
    "duration": 168,
    "start_time": "2022-02-08T21:20:20.000Z"
   },
   {
    "duration": 163,
    "start_time": "2022-02-08T21:30:17.379Z"
   },
   {
    "duration": 166,
    "start_time": "2022-02-08T21:30:54.880Z"
   },
   {
    "duration": 166,
    "start_time": "2022-02-08T21:31:36.653Z"
   },
   {
    "duration": 161,
    "start_time": "2022-02-08T21:31:46.334Z"
   },
   {
    "duration": 160,
    "start_time": "2022-02-08T21:32:12.345Z"
   },
   {
    "duration": 38508,
    "start_time": "2022-02-08T21:33:26.182Z"
   },
   {
    "duration": 10539,
    "start_time": "2022-02-08T21:34:54.060Z"
   },
   {
    "duration": 26,
    "start_time": "2022-02-08T21:45:36.102Z"
   },
   {
    "duration": 135,
    "start_time": "2022-02-08T21:54:52.314Z"
   },
   {
    "duration": 246,
    "start_time": "2022-02-08T21:55:10.094Z"
   },
   {
    "duration": 20,
    "start_time": "2022-02-08T22:10:32.245Z"
   },
   {
    "duration": 8,
    "start_time": "2022-02-08T22:11:32.135Z"
   },
   {
    "duration": 7,
    "start_time": "2022-02-08T22:29:52.350Z"
   },
   {
    "duration": 1016,
    "start_time": "2022-02-08T22:32:40.763Z"
   },
   {
    "duration": 382,
    "start_time": "2022-02-08T22:33:05.015Z"
   },
   {
    "duration": 9,
    "start_time": "2022-02-08T22:33:28.269Z"
   },
   {
    "duration": 1006,
    "start_time": "2022-02-08T22:33:36.564Z"
   },
   {
    "duration": 8,
    "start_time": "2022-02-08T22:33:59.546Z"
   },
   {
    "duration": 9,
    "start_time": "2022-02-08T22:35:06.580Z"
   },
   {
    "duration": 9,
    "start_time": "2022-02-08T22:35:23.226Z"
   },
   {
    "duration": 9,
    "start_time": "2022-02-08T22:35:44.036Z"
   },
   {
    "duration": 9,
    "start_time": "2022-02-08T22:36:03.331Z"
   },
   {
    "duration": 1077,
    "start_time": "2022-02-08T22:36:15.640Z"
   },
   {
    "duration": 10,
    "start_time": "2022-02-08T22:39:18.354Z"
   },
   {
    "duration": 10,
    "start_time": "2022-02-08T22:41:33.350Z"
   },
   {
    "duration": 9,
    "start_time": "2022-02-08T22:41:54.287Z"
   },
   {
    "duration": 11,
    "start_time": "2022-02-08T22:42:10.997Z"
   },
   {
    "duration": 120,
    "start_time": "2022-02-08T22:45:37.329Z"
   },
   {
    "duration": 141,
    "start_time": "2022-02-08T22:45:48.237Z"
   },
   {
    "duration": 14,
    "start_time": "2022-02-08T22:46:06.737Z"
   },
   {
    "duration": 9,
    "start_time": "2022-02-08T22:46:17.662Z"
   },
   {
    "duration": 7,
    "start_time": "2022-02-08T22:46:33.213Z"
   },
   {
    "duration": 8,
    "start_time": "2022-02-08T22:46:45.436Z"
   },
   {
    "duration": 8,
    "start_time": "2022-02-08T22:47:03.762Z"
   },
   {
    "duration": 6,
    "start_time": "2022-02-08T22:47:32.678Z"
   },
   {
    "duration": 9,
    "start_time": "2022-02-08T22:50:07.799Z"
   },
   {
    "duration": 18,
    "start_time": "2022-02-08T22:57:28.441Z"
   },
   {
    "duration": 10,
    "start_time": "2022-02-08T22:59:52.665Z"
   },
   {
    "duration": 12,
    "start_time": "2022-02-08T23:00:12.771Z"
   },
   {
    "duration": 18,
    "start_time": "2022-02-08T23:01:35.856Z"
   },
   {
    "duration": 8,
    "start_time": "2022-02-08T23:01:37.615Z"
   },
   {
    "duration": 7,
    "start_time": "2022-02-08T23:01:39.636Z"
   },
   {
    "duration": 406,
    "start_time": "2022-03-28T10:44:09.742Z"
   },
   {
    "duration": 730,
    "start_time": "2022-03-28T11:00:49.555Z"
   },
   {
    "duration": 1176,
    "start_time": "2022-03-28T11:00:57.639Z"
   },
   {
    "duration": 18,
    "start_time": "2022-03-28T11:00:58.817Z"
   },
   {
    "duration": 105,
    "start_time": "2022-03-28T11:00:58.837Z"
   },
   {
    "duration": 1172,
    "start_time": "2022-03-28T11:03:13.830Z"
   },
   {
    "duration": 22,
    "start_time": "2022-03-28T11:03:15.005Z"
   },
   {
    "duration": 4,
    "start_time": "2022-03-28T11:03:15.028Z"
   },
   {
    "duration": 10,
    "start_time": "2022-03-28T11:03:15.035Z"
   },
   {
    "duration": 111,
    "start_time": "2022-03-28T11:06:01.636Z"
   },
   {
    "duration": 324,
    "start_time": "2022-03-28T11:07:08.901Z"
   },
   {
    "duration": 12,
    "start_time": "2022-03-28T11:10:23.111Z"
   },
   {
    "duration": 1170,
    "start_time": "2022-03-28T11:15:59.133Z"
   },
   {
    "duration": 21,
    "start_time": "2022-03-28T11:16:00.305Z"
   },
   {
    "duration": 4,
    "start_time": "2022-03-28T11:16:00.329Z"
   },
   {
    "duration": 7,
    "start_time": "2022-03-28T11:16:00.335Z"
   },
   {
    "duration": 120,
    "start_time": "2022-03-28T11:16:00.343Z"
   },
   {
    "duration": 0,
    "start_time": "2022-03-28T11:16:00.465Z"
   },
   {
    "duration": 317,
    "start_time": "2022-03-28T11:19:58.516Z"
   },
   {
    "duration": 1136,
    "start_time": "2022-03-28T11:25:29.409Z"
   },
   {
    "duration": 26,
    "start_time": "2022-03-28T11:25:30.547Z"
   },
   {
    "duration": 3,
    "start_time": "2022-03-28T11:25:30.575Z"
   },
   {
    "duration": 7,
    "start_time": "2022-03-28T11:25:30.580Z"
   },
   {
    "duration": 332,
    "start_time": "2022-03-28T11:25:30.590Z"
   },
   {
    "duration": 8,
    "start_time": "2022-03-28T11:25:30.924Z"
   },
   {
    "duration": 318,
    "start_time": "2022-03-28T11:26:05.314Z"
   },
   {
    "duration": 10,
    "start_time": "2022-03-28T11:26:09.790Z"
   },
   {
    "duration": 127,
    "start_time": "2022-03-28T11:32:57.985Z"
   },
   {
    "duration": 5,
    "start_time": "2022-03-28T11:33:06.864Z"
   },
   {
    "duration": 7,
    "start_time": "2022-03-28T11:33:26.591Z"
   },
   {
    "duration": 1169,
    "start_time": "2022-03-28T11:41:12.821Z"
   },
   {
    "duration": 26,
    "start_time": "2022-03-28T11:41:13.992Z"
   },
   {
    "duration": 5,
    "start_time": "2022-03-28T11:41:14.019Z"
   },
   {
    "duration": 7,
    "start_time": "2022-03-28T11:41:14.026Z"
   },
   {
    "duration": 344,
    "start_time": "2022-03-28T11:41:14.035Z"
   },
   {
    "duration": 9,
    "start_time": "2022-03-28T11:41:14.381Z"
   },
   {
    "duration": 221,
    "start_time": "2022-03-28T11:41:14.392Z"
   },
   {
    "duration": 97,
    "start_time": "2022-03-28T11:41:14.615Z"
   },
   {
    "duration": 1886,
    "start_time": "2022-03-28T11:49:42.621Z"
   },
   {
    "duration": 7839,
    "start_time": "2022-03-28T11:50:29.383Z"
   },
   {
    "duration": 8,
    "start_time": "2022-03-28T11:50:44.215Z"
   },
   {
    "duration": 9,
    "start_time": "2022-03-28T11:51:13.396Z"
   },
   {
    "duration": 7509,
    "start_time": "2022-03-28T11:51:28.473Z"
   },
   {
    "duration": 8,
    "start_time": "2022-03-28T11:51:35.984Z"
   },
   {
    "duration": 3,
    "start_time": "2022-03-28T11:51:43.847Z"
   },
   {
    "duration": 20,
    "start_time": "2022-03-28T11:51:43.852Z"
   },
   {
    "duration": 3,
    "start_time": "2022-03-28T11:51:43.874Z"
   },
   {
    "duration": 15,
    "start_time": "2022-03-28T11:51:43.878Z"
   },
   {
    "duration": 7401,
    "start_time": "2022-03-28T11:51:43.896Z"
   },
   {
    "duration": 12,
    "start_time": "2022-03-28T11:51:51.299Z"
   },
   {
    "duration": 137,
    "start_time": "2022-03-28T11:52:42.981Z"
   },
   {
    "duration": 5,
    "start_time": "2022-03-28T11:52:59.595Z"
   },
   {
    "duration": 6,
    "start_time": "2022-03-28T11:58:40.540Z"
   },
   {
    "duration": 1312,
    "start_time": "2022-03-28T12:29:23.375Z"
   },
   {
    "duration": 12,
    "start_time": "2022-03-28T12:29:32.181Z"
   },
   {
    "duration": 22,
    "start_time": "2022-03-28T12:29:32.195Z"
   },
   {
    "duration": 9,
    "start_time": "2022-03-28T12:29:32.219Z"
   },
   {
    "duration": 9,
    "start_time": "2022-03-28T12:29:32.229Z"
   },
   {
    "duration": 6772,
    "start_time": "2022-03-28T12:29:32.239Z"
   },
   {
    "duration": 257,
    "start_time": "2022-03-28T12:29:39.013Z"
   },
   {
    "duration": 98,
    "start_time": "2022-03-28T12:29:39.272Z"
   },
   {
    "duration": 8,
    "start_time": "2022-03-28T12:29:39.463Z"
   },
   {
    "duration": 1145,
    "start_time": "2022-03-28T12:53:50.997Z"
   },
   {
    "duration": 19,
    "start_time": "2022-03-28T12:53:52.144Z"
   },
   {
    "duration": 3,
    "start_time": "2022-03-28T12:53:52.165Z"
   },
   {
    "duration": 13,
    "start_time": "2022-03-28T12:53:52.169Z"
   },
   {
    "duration": 6702,
    "start_time": "2022-03-28T12:53:52.184Z"
   },
   {
    "duration": 184,
    "start_time": "2022-03-28T12:53:58.887Z"
   },
   {
    "duration": 104,
    "start_time": "2022-03-28T12:53:59.162Z"
   },
   {
    "duration": 6,
    "start_time": "2022-03-28T12:53:59.268Z"
   },
   {
    "duration": 51,
    "start_time": "2022-03-29T11:17:19.260Z"
   },
   {
    "duration": 1203,
    "start_time": "2022-03-29T11:17:29.653Z"
   },
   {
    "duration": 23,
    "start_time": "2022-03-29T11:17:30.858Z"
   },
   {
    "duration": 4,
    "start_time": "2022-03-29T11:17:30.883Z"
   },
   {
    "duration": 27,
    "start_time": "2022-03-29T11:17:30.889Z"
   },
   {
    "duration": 7268,
    "start_time": "2022-03-29T11:17:30.918Z"
   },
   {
    "duration": 214,
    "start_time": "2022-03-29T11:17:38.188Z"
   },
   {
    "duration": 101,
    "start_time": "2022-03-29T11:17:38.404Z"
   },
   {
    "duration": 11,
    "start_time": "2022-03-29T11:17:38.506Z"
   },
   {
    "duration": 20,
    "start_time": "2022-03-29T11:17:38.518Z"
   },
   {
    "duration": 7,
    "start_time": "2022-03-29T11:20:17.424Z"
   },
   {
    "duration": 6,
    "start_time": "2022-03-29T11:41:45.718Z"
   },
   {
    "duration": 129,
    "start_time": "2022-03-29T12:19:14.305Z"
   },
   {
    "duration": 43,
    "start_time": "2022-03-29T12:22:40.964Z"
   },
   {
    "duration": 1144,
    "start_time": "2022-03-29T12:23:20.148Z"
   },
   {
    "duration": 18,
    "start_time": "2022-03-29T12:23:21.294Z"
   },
   {
    "duration": 10,
    "start_time": "2022-03-29T12:23:21.314Z"
   },
   {
    "duration": 24,
    "start_time": "2022-03-29T12:23:21.333Z"
   },
   {
    "duration": 4,
    "start_time": "2022-03-29T12:23:21.359Z"
   },
   {
    "duration": 10,
    "start_time": "2022-03-29T12:23:21.364Z"
   },
   {
    "duration": 7071,
    "start_time": "2022-03-29T12:23:21.376Z"
   },
   {
    "duration": 192,
    "start_time": "2022-03-29T12:23:28.448Z"
   },
   {
    "duration": 105,
    "start_time": "2022-03-29T12:23:28.732Z"
   },
   {
    "duration": 8,
    "start_time": "2022-03-29T12:23:28.839Z"
   },
   {
    "duration": 7,
    "start_time": "2022-03-29T12:23:28.849Z"
   },
   {
    "duration": 1167,
    "start_time": "2022-03-31T15:01:32.959Z"
   },
   {
    "duration": 21,
    "start_time": "2022-03-31T15:01:34.128Z"
   },
   {
    "duration": 12,
    "start_time": "2022-03-31T15:01:34.150Z"
   },
   {
    "duration": 31,
    "start_time": "2022-03-31T15:01:34.164Z"
   },
   {
    "duration": 4,
    "start_time": "2022-03-31T15:01:34.197Z"
   },
   {
    "duration": 31,
    "start_time": "2022-03-31T15:01:34.202Z"
   },
   {
    "duration": 7462,
    "start_time": "2022-03-31T15:01:34.235Z"
   },
   {
    "duration": 541,
    "start_time": "2022-03-31T15:01:41.698Z"
   },
   {
    "duration": 96,
    "start_time": "2022-03-31T15:01:42.242Z"
   },
   {
    "duration": 10,
    "start_time": "2022-03-31T15:01:42.342Z"
   },
   {
    "duration": 8,
    "start_time": "2022-03-31T15:01:42.354Z"
   },
   {
    "duration": 1226,
    "start_time": "2022-03-31T17:37:27.641Z"
   },
   {
    "duration": 24,
    "start_time": "2022-03-31T17:37:28.869Z"
   },
   {
    "duration": 12,
    "start_time": "2022-03-31T17:37:28.895Z"
   },
   {
    "duration": 34,
    "start_time": "2022-03-31T17:37:28.908Z"
   },
   {
    "duration": 4,
    "start_time": "2022-03-31T17:37:28.944Z"
   },
   {
    "duration": 12,
    "start_time": "2022-03-31T17:37:28.949Z"
   },
   {
    "duration": 3,
    "start_time": "2022-03-31T17:43:43.683Z"
   },
   {
    "duration": 26,
    "start_time": "2022-03-31T17:43:43.688Z"
   },
   {
    "duration": 11,
    "start_time": "2022-03-31T17:43:43.716Z"
   },
   {
    "duration": 29,
    "start_time": "2022-03-31T17:43:43.729Z"
   },
   {
    "duration": 4,
    "start_time": "2022-03-31T17:43:43.761Z"
   },
   {
    "duration": 8,
    "start_time": "2022-03-31T17:43:43.766Z"
   },
   {
    "duration": 7,
    "start_time": "2022-03-31T17:43:43.776Z"
   },
   {
    "duration": 6774,
    "start_time": "2022-03-31T17:46:00.134Z"
   },
   {
    "duration": 48,
    "start_time": "2022-03-31T17:46:06.910Z"
   },
   {
    "duration": 9,
    "start_time": "2022-03-31T17:48:30.735Z"
   },
   {
    "duration": 7,
    "start_time": "2022-03-31T17:48:38.900Z"
   },
   {
    "duration": 6,
    "start_time": "2022-03-31T17:49:08.713Z"
   },
   {
    "duration": 415,
    "start_time": "2023-03-13T21:12:36.527Z"
   },
   {
    "duration": 858,
    "start_time": "2023-03-13T21:12:36.945Z"
   },
   {
    "duration": 133,
    "start_time": "2023-03-13T21:12:37.805Z"
   },
   {
    "duration": 13,
    "start_time": "2023-03-13T21:12:37.940Z"
   },
   {
    "duration": 29,
    "start_time": "2023-03-13T21:12:37.955Z"
   },
   {
    "duration": 5,
    "start_time": "2023-03-13T21:12:37.986Z"
   },
   {
    "duration": 10,
    "start_time": "2023-03-13T21:12:37.993Z"
   },
   {
    "duration": 6,
    "start_time": "2023-03-13T21:12:38.004Z"
   },
   {
    "duration": 5,
    "start_time": "2023-03-13T21:12:38.012Z"
   },
   {
    "duration": 6407,
    "start_time": "2023-03-13T21:12:38.019Z"
   },
   {
    "duration": 482,
    "start_time": "2023-03-19T15:44:25.318Z"
   },
   {
    "duration": 1072,
    "start_time": "2023-03-19T15:44:25.802Z"
   },
   {
    "duration": 76,
    "start_time": "2023-03-19T15:44:26.875Z"
   },
   {
    "duration": 11,
    "start_time": "2023-03-19T15:44:26.953Z"
   },
   {
    "duration": 33,
    "start_time": "2023-03-19T15:44:26.965Z"
   },
   {
    "duration": 4,
    "start_time": "2023-03-19T15:44:27.000Z"
   },
   {
    "duration": 14,
    "start_time": "2023-03-19T15:44:27.005Z"
   },
   {
    "duration": 6,
    "start_time": "2023-03-19T15:44:27.021Z"
   },
   {
    "duration": 9,
    "start_time": "2023-03-19T15:44:27.028Z"
   },
   {
    "duration": 7054,
    "start_time": "2023-03-19T15:44:27.039Z"
   },
   {
    "duration": 368,
    "start_time": "2023-03-20T20:36:32.679Z"
   },
   {
    "duration": 691,
    "start_time": "2023-03-20T20:36:33.049Z"
   },
   {
    "duration": 84,
    "start_time": "2023-03-20T20:36:33.741Z"
   },
   {
    "duration": 12,
    "start_time": "2023-03-20T20:36:33.828Z"
   },
   {
    "duration": 30,
    "start_time": "2023-03-20T20:36:33.842Z"
   },
   {
    "duration": 4,
    "start_time": "2023-03-20T20:36:33.874Z"
   },
   {
    "duration": 6,
    "start_time": "2023-03-20T20:36:33.880Z"
   },
   {
    "duration": 157,
    "start_time": "2023-03-20T20:36:33.888Z"
   },
   {
    "duration": 7,
    "start_time": "2023-03-20T20:36:51.905Z"
   },
   {
    "duration": 8,
    "start_time": "2023-03-20T20:37:19.091Z"
   },
   {
    "duration": 5,
    "start_time": "2023-03-20T20:37:48.257Z"
   },
   {
    "duration": 8,
    "start_time": "2023-03-20T20:37:48.791Z"
   },
   {
    "duration": 4,
    "start_time": "2023-03-20T20:37:53.470Z"
   },
   {
    "duration": 8,
    "start_time": "2023-03-20T20:37:54.121Z"
   },
   {
    "duration": 3,
    "start_time": "2023-03-20T20:38:12.389Z"
   },
   {
    "duration": 6,
    "start_time": "2023-03-20T20:38:16.887Z"
   },
   {
    "duration": 5,
    "start_time": "2023-03-20T20:38:19.591Z"
   },
   {
    "duration": 8,
    "start_time": "2023-03-20T20:38:23.664Z"
   },
   {
    "duration": 3,
    "start_time": "2023-03-20T20:45:37.860Z"
   },
   {
    "duration": 3,
    "start_time": "2023-03-20T20:45:37.865Z"
   },
   {
    "duration": 38,
    "start_time": "2023-03-20T20:45:37.870Z"
   },
   {
    "duration": 9,
    "start_time": "2023-03-20T20:45:37.910Z"
   },
   {
    "duration": 22,
    "start_time": "2023-03-20T20:45:37.921Z"
   },
   {
    "duration": 3,
    "start_time": "2023-03-20T20:45:37.944Z"
   },
   {
    "duration": 10,
    "start_time": "2023-03-20T20:45:37.949Z"
   },
   {
    "duration": 4,
    "start_time": "2023-03-20T20:45:37.961Z"
   },
   {
    "duration": 7,
    "start_time": "2023-03-20T20:45:37.967Z"
   },
   {
    "duration": 10,
    "start_time": "2023-03-20T20:50:17.556Z"
   },
   {
    "duration": 3,
    "start_time": "2023-03-20T20:50:23.933Z"
   },
   {
    "duration": 9,
    "start_time": "2023-03-20T20:50:28.178Z"
   },
   {
    "duration": 2,
    "start_time": "2023-03-20T20:58:52.825Z"
   },
   {
    "duration": 29,
    "start_time": "2023-03-20T20:58:52.830Z"
   },
   {
    "duration": 70,
    "start_time": "2023-03-20T20:58:52.861Z"
   },
   {
    "duration": 9,
    "start_time": "2023-03-20T20:58:52.932Z"
   },
   {
    "duration": 33,
    "start_time": "2023-03-20T20:58:52.943Z"
   },
   {
    "duration": 3,
    "start_time": "2023-03-20T20:58:52.979Z"
   },
   {
    "duration": 22,
    "start_time": "2023-03-20T20:58:52.983Z"
   },
   {
    "duration": 20,
    "start_time": "2023-03-20T20:58:53.007Z"
   },
   {
    "duration": 18,
    "start_time": "2023-03-20T20:58:53.029Z"
   },
   {
    "duration": 30,
    "start_time": "2023-03-20T20:58:53.049Z"
   },
   {
    "duration": 26,
    "start_time": "2023-03-20T20:58:53.081Z"
   },
   {
    "duration": 5697,
    "start_time": "2023-03-20T20:58:53.109Z"
   },
   {
    "duration": 5781,
    "start_time": "2023-03-20T20:59:55.573Z"
   },
   {
    "duration": 6,
    "start_time": "2023-03-20T21:01:45.838Z"
   },
   {
    "duration": 12,
    "start_time": "2023-03-20T21:10:11.224Z"
   },
   {
    "duration": 6,
    "start_time": "2023-03-20T21:12:07.189Z"
   },
   {
    "duration": 17,
    "start_time": "2023-03-20T21:13:11.232Z"
   },
   {
    "duration": 15,
    "start_time": "2023-03-20T21:14:10.345Z"
   },
   {
    "duration": 15,
    "start_time": "2023-03-20T21:14:56.521Z"
   },
   {
    "duration": 4,
    "start_time": "2023-03-20T21:15:14.509Z"
   },
   {
    "duration": 10,
    "start_time": "2023-03-20T21:15:30.290Z"
   },
   {
    "duration": 4,
    "start_time": "2023-03-20T21:15:42.099Z"
   },
   {
    "duration": 9,
    "start_time": "2023-03-20T21:16:10.343Z"
   },
   {
    "duration": 4,
    "start_time": "2023-03-20T21:16:35.795Z"
   },
   {
    "duration": 11,
    "start_time": "2023-03-20T21:23:10.882Z"
   },
   {
    "duration": 3,
    "start_time": "2023-03-20T21:23:33.668Z"
   },
   {
    "duration": 5,
    "start_time": "2023-03-20T21:23:45.698Z"
   },
   {
    "duration": 7,
    "start_time": "2023-03-20T21:27:03.108Z"
   },
   {
    "duration": 10,
    "start_time": "2023-03-20T21:27:06.118Z"
   },
   {
    "duration": 8,
    "start_time": "2023-03-20T21:27:16.916Z"
   },
   {
    "duration": 7,
    "start_time": "2023-03-20T21:29:12.206Z"
   },
   {
    "duration": 478,
    "start_time": "2023-05-14T14:47:32.572Z"
   },
   {
    "duration": 860,
    "start_time": "2023-05-14T14:47:33.666Z"
   },
   {
    "duration": 75,
    "start_time": "2023-05-14T14:47:39.950Z"
   },
   {
    "duration": 15,
    "start_time": "2023-05-14T14:47:55.087Z"
   },
   {
    "duration": 38,
    "start_time": "2023-05-14T14:48:21.575Z"
   },
   {
    "duration": 38,
    "start_time": "2023-05-14T14:50:15.651Z"
   },
   {
    "duration": 28,
    "start_time": "2023-05-14T14:50:40.463Z"
   },
   {
    "duration": 18,
    "start_time": "2023-05-14T14:50:42.059Z"
   },
   {
    "duration": 12,
    "start_time": "2023-05-14T14:54:31.598Z"
   },
   {
    "duration": 14,
    "start_time": "2023-05-14T14:54:32.986Z"
   },
   {
    "duration": 4,
    "start_time": "2023-05-14T14:58:40.131Z"
   },
   {
    "duration": 5,
    "start_time": "2023-05-14T15:03:17.610Z"
   },
   {
    "duration": 9,
    "start_time": "2023-05-14T15:03:21.968Z"
   },
   {
    "duration": 14,
    "start_time": "2023-05-14T15:03:29.966Z"
   },
   {
    "duration": 11,
    "start_time": "2023-05-14T15:06:02.513Z"
   },
   {
    "duration": 2,
    "start_time": "2023-05-14T15:06:44.513Z"
   },
   {
    "duration": 6000,
    "start_time": "2023-05-14T15:08:54.079Z"
   },
   {
    "duration": 6,
    "start_time": "2023-05-14T15:09:16.114Z"
   },
   {
    "duration": 11,
    "start_time": "2023-05-14T15:13:47.496Z"
   },
   {
    "duration": 9,
    "start_time": "2023-05-14T15:16:01.274Z"
   },
   {
    "duration": 17,
    "start_time": "2023-05-14T15:16:11.055Z"
   },
   {
    "duration": 6,
    "start_time": "2023-05-14T15:16:12.081Z"
   },
   {
    "duration": 7,
    "start_time": "2023-05-14T15:19:21.307Z"
   },
   {
    "duration": 86,
    "start_time": "2023-05-14T15:37:27.251Z"
   },
   {
    "duration": 34,
    "start_time": "2023-05-14T15:37:42.784Z"
   },
   {
    "duration": 10,
    "start_time": "2023-05-14T15:37:45.041Z"
   },
   {
    "duration": 525,
    "start_time": "2023-05-14T15:38:36.061Z"
   },
   {
    "duration": 33,
    "start_time": "2023-05-14T15:38:40.857Z"
   },
   {
    "duration": 16,
    "start_time": "2023-05-14T15:38:43.918Z"
   },
   {
    "duration": 435,
    "start_time": "2023-10-26T13:03:13.718Z"
   },
   {
    "duration": 860,
    "start_time": "2023-10-26T13:03:14.155Z"
   },
   {
    "duration": 77,
    "start_time": "2023-10-26T13:03:15.016Z"
   },
   {
    "duration": 14,
    "start_time": "2023-10-26T13:03:15.095Z"
   },
   {
    "duration": 31,
    "start_time": "2023-10-26T13:03:15.110Z"
   },
   {
    "duration": 45,
    "start_time": "2023-10-26T13:03:15.142Z"
   },
   {
    "duration": 6,
    "start_time": "2023-10-26T13:03:15.189Z"
   },
   {
    "duration": 25,
    "start_time": "2023-10-26T13:03:15.197Z"
   },
   {
    "duration": 36,
    "start_time": "2023-10-26T13:03:15.224Z"
   },
   {
    "duration": 21,
    "start_time": "2023-10-26T13:03:15.262Z"
   },
   {
    "duration": 17,
    "start_time": "2023-10-26T13:03:15.285Z"
   },
   {
    "duration": 16,
    "start_time": "2023-10-26T13:03:15.304Z"
   },
   {
    "duration": 6626,
    "start_time": "2023-10-26T13:03:15.322Z"
   },
   {
    "duration": 9,
    "start_time": "2023-10-26T13:03:21.958Z"
   },
   {
    "duration": 44,
    "start_time": "2023-10-26T13:03:21.969Z"
   },
   {
    "duration": 7,
    "start_time": "2023-10-26T13:03:22.015Z"
   },
   {
    "duration": 14,
    "start_time": "2023-10-26T13:03:22.023Z"
   },
   {
    "duration": 15,
    "start_time": "2023-10-26T13:03:22.040Z"
   },
   {
    "duration": 19,
    "start_time": "2023-10-26T13:03:22.061Z"
   }
  ],
  "kernelspec": {
   "display_name": "Python 3 (ipykernel)",
   "language": "python",
   "name": "python3"
  },
  "language_info": {
   "codemirror_mode": {
    "name": "ipython",
    "version": 3
   },
   "file_extension": ".py",
   "mimetype": "text/x-python",
   "name": "python",
   "nbconvert_exporter": "python",
   "pygments_lexer": "ipython3",
   "version": "3.9.5"
  },
  "toc": {
   "base_numbering": 1,
   "nav_menu": {},
   "number_sections": true,
   "sideBar": true,
   "skip_h1_title": true,
   "title_cell": "Table of Contents",
   "title_sidebar": "Contents",
   "toc_cell": false,
   "toc_position": {},
   "toc_section_display": true,
   "toc_window_display": false
  }
 },
 "nbformat": 4,
 "nbformat_minor": 2
}
